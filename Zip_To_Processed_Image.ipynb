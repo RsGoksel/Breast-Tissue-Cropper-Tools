{
 "cells": [
  {
   "cell_type": "code",
   "execution_count": null,
   "id": "843d2fb1-a508-473c-8d17-dee578ee8f48",
   "metadata": {},
   "outputs": [],
   "source": []
  },
  {
   "cell_type": "code",
   "execution_count": null,
   "id": "0424d166-4b64-429a-9c24-eea51e614a5b",
   "metadata": {
    "tags": []
   },
   "outputs": [],
   "source": [
    "import torch\n",
    "import time\n",
    "import cv2\n",
    "import os\n",
    "import numpy as np\n",
    "import pydicom\n",
    "from pydicom.pixel_data_handlers.util import apply_voi_lut\n",
    "from PIL import Image\n",
    "import zipfile\n",
    "import torch\n",
    "\n",
    "model = torch.hub.load(\"ultralytics/yolov5\", \"yolov5n\")\n",
    "model = torch.hub.load('./', 'custom', path='Breast_Cropper.pt', source='local')\n",
    "\n",
    "#Take prediction from model from taken image as parameter / Gogus goruntusunun ROI kısmını almak üzere eğitilmiş model çekilir\n",
    "def capture(image):\n",
    "    try:\n",
    "        detections = model(image)\n",
    "        results = detections.pandas().xyxy[0].to_dict(orient=\"records\")\n",
    "        frame = image[int(results[0]['ymin']):int(results[0]['ymax']),int(results[0]['xmin']):int(results[0]['xmax'])]\n",
    "        return frame    \n",
    "    except:\n",
    "        return image\n"
   ]
  },
  {
   "cell_type": "code",
   "execution_count": null,
   "id": "9dfc55fc-2fb7-44a0-938a-51435f99cf45",
   "metadata": {
    "tags": []
   },
   "outputs": [],
   "source": [
    "#Linear strecth algorithm for Dicom to PNG process\n",
    "#Dicom görüntülerinin dönüştürülmesinde linear stretch yöntemi kullanıldı\n",
    "def lin_stretch_img(img, low_prc, high_prc, do_ignore_minmax=True):\n",
    "    \n",
    "    if do_ignore_minmax:\n",
    "        tmp_img = img.copy()\n",
    "        med = np.median(img)  \n",
    "        tmp_img[img == img.min()] = med\n",
    "        tmp_img[img == img.max()] = med\n",
    "    else:\n",
    "        tmp_img = img\n",
    "\n",
    "    lo, hi = np.percentile(tmp_img, (low_prc, high_prc))  \n",
    "\n",
    "    if lo == hi:\n",
    "        return np.full(img.shape, 128, np.uint8)  \n",
    "\n",
    "    stretch_img = (img.astype(float) - lo) * (255/(hi-lo))  \n",
    "    stretch_img = stretch_img.clip(0, 255).astype(np.uint8)  \n",
    "    \n",
    "    return stretch_img\n",
    "\n",
    "#Extracting PNG from Dicom\n",
    "def dicom_to_PNG(filename):\n",
    "\n",
    "    ds = pydicom.read_file(filename) \n",
    "    img = ds.pixel_array \n",
    "    img = apply_voi_lut(img, ds, index=0)\n",
    "    img = lin_stretch_img(img, 0.1, 99.9)  \n",
    "\n",
    "    if ds[0x0028, 0x0004].value == 'MONOCHROME1':\n",
    "        img = 255-img \n",
    "    return img\n",
    "    return capture(img)"
   ]
  },
  {
   "cell_type": "code",
   "execution_count": null,
   "id": "e173b08c-82d6-47f2-a012-b522bc8e6883",
   "metadata": {
    "tags": []
   },
   "outputs": [],
   "source": [
    "#Extracting folder from ZIP\n",
    "def extract_folders(zip_ref, dest_folder, zip_info_list):\n",
    "    girdi = 0\n",
    "    \n",
    "    for zip_info in zip_info_list:\n",
    "        \n",
    "        if zip_info.is_dir():\n",
    "\n",
    "            extracted_folder_path = os.path.join(dest_folder, zip_info.filename)\n",
    "            os.makedirs(extracted_folder_path, exist_ok=True)\n",
    "\n",
    "            subfolder_items = [zi for zi in zip_info_list if zi.filename.startswith(zip_info.filename + \"/\")]\n",
    "            extract_folders(zip_ref, extracted_folder_path, subfolder_items)\n",
    "                        \n",
    "        else:\n",
    "\n",
    "            zip_ref.extract(zip_info, dest_folder)\n",
    "\n",
    "            dcm_file = dest_folder+zip_info.filename\n",
    "            name = zip_info.filename[:-4]+'.png'\n",
    "            \n",
    "            cv2.imwrite(dest_folder+name, dicom_to_PNG(dest_folder+zip_info.filename))\n",
    "            os.remove(dcm_file)\n",
    "            \n",
    "with zipfile.ZipFile('D:/Open.zip', 'r') as zip_ref:\n",
    "    dest_folder = 'D:/Dest/'            \n",
    "    extract_folders(zip_ref, dest_folder, zip_ref.infolist())"
   ]
  },
  {
   "cell_type": "code",
   "execution_count": null,
   "id": "0117e402-9a9a-4022-9601-d71228a3b1dd",
   "metadata": {
    "tags": []
   },
   "outputs": [],
   "source": []
  },
  {
   "cell_type": "code",
   "execution_count": null,
   "id": "cad66c5e-ffd4-4634-81f7-4c88ef74b9b8",
   "metadata": {},
   "outputs": [],
   "source": []
  }
 ],
 "metadata": {
  "kernelspec": {
   "display_name": "tf",
   "language": "python",
   "name": "tf"
  },
  "language_info": {
   "codemirror_mode": {
    "name": "ipython",
    "version": 3
   },
   "file_extension": ".py",
   "mimetype": "text/x-python",
   "name": "python",
   "nbconvert_exporter": "python",
   "pygments_lexer": "ipython3",
   "version": "3.9.0"
  }
 },
 "nbformat": 4,
 "nbformat_minor": 5
}
