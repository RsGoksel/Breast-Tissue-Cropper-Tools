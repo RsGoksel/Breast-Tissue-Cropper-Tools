{
 "cells": [
  {
   "cell_type": "markdown",
   "id": "ca5dcc9b-9c17-4e9e-a884-680ec791bdc9",
   "metadata": {},
   "source": [
    "DELABEL / Remove white parts like MLO or CC signs \n",
    "(beyaz kısımları kaldırır)"
   ]
  },
  {
   "cell_type": "code",
   "execution_count": null,
   "id": "454f0b26-e54f-404f-9296-afe816188f68",
   "metadata": {},
   "outputs": [],
   "source": [
    "import time\n",
    "import cv2\n",
    "import numpy as np\n",
    "\n",
    "def delabel(pixels):\n",
    "    bin_pixels = cv2.threshold(pixels, 10, 255, cv2.THRESH_BINARY)[1]\n",
    "    contours, _ = cv2.findContours(bin_pixels, cv2.RETR_EXTERNAL, cv2.CHAIN_APPROX_NONE)\n",
    "    contour = max(contours, key=cv2.contourArea)\n",
    "    mask = np.zeros(pixels.shape, np.uint8)\n",
    "    cv2.drawContours(mask, [contour], -1, 255, cv2.FILLED)\n",
    "    out = cv2.bitwise_and(pixels,mask)\n",
    "    \n",
    "    return out\n",
    "\n",
    "img = cv2.imread('Images/RCC.png',0)\n",
    "cv2.imwrite('delabel.png',delabel(img))"
   ]
  },
  {
   "cell_type": "markdown",
   "id": "9d8d7616-8687-4005-bf5d-5ec0617f0b59",
   "metadata": {
    "tags": []
   },
   "source": [
    "RESIZE THE IMAGE"
   ]
  },
  {
   "cell_type": "code",
   "execution_count": null,
   "id": "779477f6-8d6f-4ee4-9ce7-d3208b806326",
   "metadata": {},
   "outputs": [],
   "source": [
    "def resize(image):\n",
    "\n",
    "    image = cv2.resize(image, (640,640), interpolation = cv2.INTER_AREA)\n",
    "    return image"
   ]
  },
  {
   "cell_type": "markdown",
   "id": "10df8d9d-c929-4bad-a95c-d8fb154f6357",
   "metadata": {},
   "source": [
    "CLAHE"
   ]
  },
  {
   "cell_type": "code",
   "execution_count": null,
   "id": "6e78752c-b777-4054-b867-870227acfe1a",
   "metadata": {},
   "outputs": [],
   "source": [
    "import cv2\n",
    "import numpy as np\n",
    "\n",
    "#tile_grid_size=(8,8)):\n",
    "def clahe(img, clip_limit=2.0, tile_grid_size=(8,8)):\n",
    "    clahe = cv2.createCLAHE(clipLimit=clip_limit, tileGridSize=tile_grid_size)\n",
    "    img_clahe = clahe.apply(img)\n",
    "    return img_clahe\n",
    "\n",
    "img = cv2.imread('Delabel.png',0)\n",
    "\n",
    "cv2.imwrite('clahe.png',clahe(img))"
   ]
  },
  {
   "cell_type": "markdown",
   "id": "f44c5321-9b01-4e55-a9ff-e0f9b8d15964",
   "metadata": {},
   "source": [
    "BREAST SIDE"
   ]
  },
  {
   "cell_type": "code",
   "execution_count": null,
   "id": "516f3da7-09ad-4a26-95fb-d87362069734",
   "metadata": {},
   "outputs": [],
   "source": [
    "import cv2\n",
    "import numpy as np\n",
    "\n",
    "def b_type(img):\n",
    "    w = img.shape[1]\n",
    "    right_brightness = np.sum(img[:, w-20: w])\n",
    "    left_brightness = np.sum(img[:, 0: 20])\n",
    "\n",
    "    if right_brightness > left_brightness:\n",
    "        return \"Right\"\n",
    "    return \"Left\"\n"
   ]
  },
  {
   "cell_type": "markdown",
   "id": "6fde28e8-722a-4126-8466-601292898734",
   "metadata": {},
   "source": [
    "BRIGHT SIDE AND ROI"
   ]
  },
  {
   "cell_type": "code",
   "execution_count": null,
   "id": "143de6d8-a5ce-41c7-b3a4-cad8cdaa7a42",
   "metadata": {},
   "outputs": [],
   "source": [
    "import cv2\n",
    "import numpy as np\n",
    "import time\n",
    "\n",
    "def crop(image):\n",
    "\n",
    "    gray = cv2.cvtColor(image, cv2.COLOR_GRAY2RGB)\n",
    "    gray = cv2.cvtColor(gray, cv2.COLOR_BGR2GRAY)\n",
    "\n",
    "    ret,thresh = cv2.threshold(gray,10,255,cv2.THRESH_BINARY)\n",
    "    contours, hierarchy = cv2.findContours(thresh, cv2.RETR_TREE, cv2.CHAIN_APPROX_SIMPLE)\n",
    "    largest_contour = max(contours, key=cv2.contourArea)\n",
    "    x,y,w,h = cv2.boundingRect(largest_contour)\n",
    "    cropped = image[y:y+h, x:x+w]\n",
    "    return cropped\n",
    "\n",
    "#Pectoral kas alınır ve geri kalan önemli bölge elde edilir.\n",
    "#Removing pectoral muscle\n",
    "def cropRoi(img): \n",
    "    end = -1\n",
    "    w = img.shape[1]\n",
    "    h = img.shape[0]\n",
    "    \n",
    "    right_brightness = np.sum(img[:, w-20: w])\n",
    "    left_brightness = np.sum(img[:, 0: 20])\n",
    "\n",
    "    if right_brightness > left_brightness:\n",
    "        \n",
    "        for i in range(1023, -1, -1):\n",
    "            if np.all(img[1411][i] < 10):\n",
    "                end = i\n",
    "                break\n",
    "                \n",
    "        myROI = [(0,0),(int(h*0.55),0),(h,int(h*0.8)),(int(w*0.8),100),(0,0)]\n",
    "        h = img.shape[0]\n",
    "        return crop(cv2.fillPoly(img, [np.array(myROI)], 0))\n",
    "        \n",
    "    \n",
    "    end = -1\n",
    "    for i in range(int(h/3)):\n",
    "        if np.all(img[10][i] < 10):\n",
    "    \t    end = i\n",
    "    \t    break\n",
    "    myROI = [(0,int(w*0.10)),(0,int(h*0.55)),(int(w*0.10),int(h*0.20)),(int(w*0.50),0),(w,0)]\n",
    "    \n",
    "    return crop(cv2.fillPoly(img, [np.array(myROI)], 0))\n",
    "   \n",
    "#out = cv2.imread('img1.png',0)\n",
    "#cv2.imwrite('img2.png',crop(out))\n",
    "#cv2.imwrite('img3.png',cropRoi(crop(out)))"
   ]
  },
  {
   "cell_type": "markdown",
   "id": "38c42323-0a86-473c-acae-2dc7491fe75a",
   "metadata": {},
   "source": [
    "MLO CC Separator"
   ]
  },
  {
   "cell_type": "code",
   "execution_count": null,
   "id": "58697c7c-5f20-4154-b88e-369de2f2220d",
   "metadata": {},
   "outputs": [],
   "source": [
    "import cv2\n",
    "import numpy as np\n",
    "\n",
    "def detect_mammogram_view(image):\n",
    "    \n",
    "    gray = cv2.cvtColor(image, cv2.COLOR_BGR2GRAY)\n",
    "    edges = cv2.Canny(gray, 50, 150)\n",
    "    contours, _ = cv2.findContours(edges, cv2.RETR_EXTERNAL, cv2.CHAIN_APPROX_SIMPLE)\n",
    "    \n",
    "    for cnt in contours:\n",
    "        (x, y, w, h) = cv2.boundingRect(cnt)\n",
    "        aspect_ratio = float(w) / h\n",
    "        return \"MLO\" if aspect_ratio > 0.8 else \"CC\""
   ]
  }
 ],
 "metadata": {
  "kernelspec": {
   "display_name": "tf",
   "language": "python",
   "name": "tf"
  },
  "language_info": {
   "codemirror_mode": {
    "name": "ipython",
    "version": 3
   },
   "file_extension": ".py",
   "mimetype": "text/x-python",
   "name": "python",
   "nbconvert_exporter": "python",
   "pygments_lexer": "ipython3",
   "version": "3.9.0"
  }
 },
 "nbformat": 4,
 "nbformat_minor": 5
}
